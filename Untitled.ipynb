{
 "cells": [
  {
   "cell_type": "markdown",
   "id": "6c3bb547-6690-410c-8663-80b7a3b6c420",
   "metadata": {},
   "source": [
    "## Post processing: save the weights/scores of the trained models"
   ]
  },
  {
   "cell_type": "code",
   "execution_count": 1,
   "id": "e3bde3c1-b2ec-427a-af3b-56ba2d611ef2",
   "metadata": {},
   "outputs": [],
   "source": [
    "from sklearn.linear_model import LogisticRegression\n",
    "from sklearn.metrics import accuracy_score\n",
    "from sklearn.metrics import f1_score\n",
    "from sklearn.metrics import precision_score\n",
    "from sklearn.metrics import recall_score\n",
    "from sklearn.metrics import brier_score_loss\n",
    "from sklearn.calibration import calibration_curve"
   ]
  },
  {
   "cell_type": "code",
   "execution_count": 2,
   "id": "c1f2daa5-be29-4436-a1a0-ebc6f5e422de",
   "metadata": {},
   "outputs": [
    {
     "name": "stderr",
     "output_type": "stream",
     "text": [
      "2022-09-06 13:50:40.183444: W tensorflow/stream_executor/platform/default/dso_loader.cc:64] Could not load dynamic library 'libcudart.so.11.0'; dlerror: libcudart.so.11.0: cannot open shared object file: No such file or directory\n",
      "2022-09-06 13:50:40.183480: I tensorflow/stream_executor/cuda/cudart_stub.cc:29] Ignore above cudart dlerror if you do not have a GPU set up on your machine.\n"
     ]
    }
   ],
   "source": [
    "import tensorflow as tf    \n",
    "#tf.compat.v1.disable_v2_behavior() # <-- HERE !\n",
    "\n",
    "from tensorflow import keras\n",
    "from tensorflow.keras import layers\n",
    "from tensorflow.keras import Input\n",
    "from tensorflow.keras.models import Model\n",
    "from tensorflow.keras.callbacks import ModelCheckpoint\n",
    "from tensorflow.keras import regularizers\n",
    "import tensorflow.keras.backend as K\n",
    "from tensorflow.keras.utils import to_categorical\n",
    "from tensorflow.keras.layers import Dropout, Activation, Reshape, Flatten, LSTM, Dense, Dropout, Embedding, Bidirectional, GRU\n",
    "from tensorflow.keras import Sequential\n",
    "from tensorflow.keras import initializers, regularizers\n",
    "from tensorflow.keras import optimizers\n",
    "from tensorflow.keras import constraints\n",
    "from tensorflow.keras.layers import Layer, InputSpec"
   ]
  },
  {
   "cell_type": "code",
   "execution_count": 3,
   "id": "ec61a625-8163-43dc-9406-40e17b361583",
   "metadata": {},
   "outputs": [],
   "source": [
    "def load_weight(weight_path, trained_model, test_X, test_y):\n",
    "    model = trained_model\n",
    "    model.load_weights(weight_file)\n",
    "    # Evaluate the model\n",
    "    val1, val2 = model.evaluate(test_X, test_y, verbose=2)   # val1 is loss, and val2 could be another metrics defined during the training\n",
    "    y_pred = model.predict(test_X)\n",
    "    return y_pred, val1, val2\n",
    "\n",
    "def load_history(hist_path):\n",
    "    "
   ]
  },
  {
   "cell_type": "code",
   "execution_count": 4,
   "id": "6d907260-60e2-4ce6-ae80-b239e5f8a9fb",
   "metadata": {},
   "outputs": [],
   "source": [
    "def score(y_truth, y_pred):\n",
    "    recall = recall_score(y_truth, y_pred, nbins)\n",
    "    precision = precision_score(y_truth, y_pred)\n",
    "    f1 = f1_score(y_truth, y_pred)\n",
    "    acc = accuracy_score(y_truth, y_pred)\n",
    "    BS = brier_score_loss(y_truth, y_pred)\n",
    "    # BSS \n",
    "    calib_y, calib_x = calibration_curve(y_truth, y_pred, n_bins=nbins)\n",
    "    return reccall, precision, f1, acc, BS, calib_y, calib_x"
   ]
  },
  {
   "cell_type": "code",
   "execution_count": null,
   "id": "d5ed21cd-2f32-413c-8226-36971b7de97b",
   "metadata": {},
   "outputs": [],
   "source": []
  }
 ],
 "metadata": {
  "kernelspec": {
   "display_name": "Python 3 (ipykernel)",
   "language": "python",
   "name": "python3"
  },
  "language_info": {
   "codemirror_mode": {
    "name": "ipython",
    "version": 3
   },
   "file_extension": ".py",
   "mimetype": "text/x-python",
   "name": "python",
   "nbconvert_exporter": "python",
   "pygments_lexer": "ipython3",
   "version": "3.8.10"
  }
 },
 "nbformat": 4,
 "nbformat_minor": 5
}
